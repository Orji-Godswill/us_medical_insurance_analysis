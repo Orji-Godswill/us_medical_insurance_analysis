{
 "cells": [
  {
   "cell_type": "markdown",
   "metadata": {},
   "source": [
    "# Project: US Medical Insurance Cost Analysis\n",
    "\n",
    "## Step 1: Look over the dataset\n",
    "### Step 1.1: Import the dataset and utils.py"
   ]
  },
  {
   "cell_type": "code",
   "execution_count": 17,
   "metadata": {},
   "outputs": [],
   "source": [
    "import csv\n",
    "import utils\n"
   ]
  },
  {
   "cell_type": "markdown",
   "metadata": {},
   "source": [
    "### Step 1.2: Create empty list for each variable column from the dataset\n",
    "Seven empty lists were created to store the data extracted from the insurance.csv file for each column. The variable names were chosen to reflect the type of data stored in each list."
   ]
  },
  {
   "cell_type": "code",
   "execution_count": 18,
   "metadata": {},
   "outputs": [],
   "source": [
    "patients_age = []\n",
    "patients_sex = []\n",
    "patients_bmi = []\n",
    "patients_children = []\n",
    "patients_smoker = []\n",
    "patients_region = []\n",
    "patients_charges = []"
   ]
  },
  {
   "cell_type": "markdown",
   "metadata": {},
   "source": [
    "### Step 1.3: Define a function that will extract the data in the insurance.csv file \n",
    "The function will be used to extract individual columns from the csv file and store the data in the list created in step 1.2 respectively"
   ]
  },
  {
   "cell_type": "code",
   "execution_count": 19,
   "metadata": {},
   "outputs": [],
   "source": [
    "def extract_data(column_list, csv_file, column_name):\n",
    "    with open(csv_file) as csv_data:\n",
    "        csv_dict = csv.DictReader(csv_data)\n",
    "        for row in csv_dict:\n",
    "            column_list.append(row[column_name])\n",
    "\n",
    "    return None"
   ]
  },
  {
   "cell_type": "code",
   "execution_count": 20,
   "metadata": {},
   "outputs": [],
   "source": [
    "extract_data(patients_age, 'insurance.csv', 'age')\n",
    "extract_data(patients_sex, 'insurance.csv', 'sex')\n",
    "extract_data(patients_bmi, 'insurance.csv', 'bmi')\n",
    "extract_data(patients_children, 'insurance.csv', 'children')\n",
    "extract_data(patients_smoker, 'insurance.csv', 'smoker')\n",
    "extract_data(patients_region, 'insurance.csv', 'region')\n",
    "extract_data(patients_charges, 'insurance.csv', 'charges')"
   ]
  },
  {
   "cell_type": "markdown",
   "metadata": {},
   "source": [
    "## Step 2: Analysis of the Dataset\n",
    "### Step 2.1: Create an instance of the summary statistics class created in the utils.py file"
   ]
  },
  {
   "cell_type": "code",
   "execution_count": 21,
   "metadata": {},
   "outputs": [],
   "source": [
    "summary_statistics_obj = utils.SummaryStatistics()"
   ]
  },
  {
   "cell_type": "markdown",
   "metadata": {},
   "source": [
    "### 2.2: Find out the average age of the patients in the dataset\n",
    "Summary statistics of age of the patients"
   ]
  },
  {
   "cell_type": "code",
   "execution_count": 22,
   "metadata": {},
   "outputs": [
    {
     "data": {
      "text/plain": [
       "'The average age of the patients is 39 years!'"
      ]
     },
     "execution_count": 22,
     "metadata": {},
     "output_type": "execute_result"
    }
   ],
   "source": [
    "summary_statistics_obj.mean(patients_age, 'age')"
   ]
  },
  {
   "cell_type": "code",
   "execution_count": 23,
   "metadata": {},
   "outputs": [
    {
     "data": {
      "text/plain": [
       "'The patient age is within the range of 46.0'"
      ]
     },
     "execution_count": 23,
     "metadata": {},
     "output_type": "execute_result"
    }
   ],
   "source": [
    "summary_statistics_obj.range(patients_age, 'age')"
   ]
  },
  {
   "cell_type": "markdown",
   "metadata": {},
   "source": [
    "Summary statistics of the bmi of the patients"
   ]
  },
  {
   "cell_type": "code",
   "execution_count": 24,
   "metadata": {},
   "outputs": [
    {
     "data": {
      "text/plain": [
       "'The average bmi of the patients is 30.66!'"
      ]
     },
     "execution_count": 24,
     "metadata": {},
     "output_type": "execute_result"
    }
   ],
   "source": [
    "summary_statistics_obj.mean(patients_bmi, 'bmi')"
   ]
  },
  {
   "cell_type": "code",
   "execution_count": 25,
   "metadata": {},
   "outputs": [
    {
     "data": {
      "text/plain": [
       "'The patient bmi value is within the range of 37.17'"
      ]
     },
     "execution_count": 25,
     "metadata": {},
     "output_type": "execute_result"
    }
   ],
   "source": [
    "summary_statistics_obj.range(patients_bmi, 'bmi')"
   ]
  },
  {
   "cell_type": "markdown",
   "metadata": {},
   "source": [
    "Analysis of the amount of money the patients spend on insurance"
   ]
  },
  {
   "cell_type": "code",
   "execution_count": 26,
   "metadata": {},
   "outputs": [
    {
     "data": {
      "text/plain": [
       "'The average charge of the patients is 13270.42!'"
      ]
     },
     "execution_count": 26,
     "metadata": {},
     "output_type": "execute_result"
    }
   ],
   "source": [
    "summary_statistics_obj.mean(patients_charges, 'charges')"
   ]
  },
  {
   "cell_type": "markdown",
   "metadata": {},
   "source": [
    "### Step 2.3: Analyse the data based on location"
   ]
  },
  {
   "cell_type": "code",
   "execution_count": 27,
   "metadata": {},
   "outputs": [],
   "source": [
    "region_obj = utils.PatientsByRegion()"
   ]
  },
  {
   "cell_type": "code",
   "execution_count": 30,
   "metadata": {},
   "outputs": [
    {
     "ename": "TypeError",
     "evalue": "unsupported operand type(s) for +=: 'dict' and 'int'",
     "output_type": "error",
     "traceback": [
      "\u001b[1;31m---------------------------------------------------------------------------\u001b[0m",
      "\u001b[1;31mTypeError\u001b[0m                                 Traceback (most recent call last)",
      "\u001b[1;32m<ipython-input-30-4e12fc55b057>\u001b[0m in \u001b[0;36m<module>\u001b[1;34m\u001b[0m\n\u001b[1;32m----> 1\u001b[1;33m \u001b[0mregion_obj\u001b[0m\u001b[1;33m.\u001b[0m\u001b[0mregion\u001b[0m\u001b[1;33m(\u001b[0m\u001b[0mpatients_region\u001b[0m\u001b[1;33m)\u001b[0m\u001b[1;33m\u001b[0m\u001b[1;33m\u001b[0m\u001b[0m\n\u001b[0m",
      "\u001b[1;32md:\\DOCS\\Web Developement\\Codecademy\\Data Science Career Path\\us_medical_insurance_analysis\\utils.py\u001b[0m in \u001b[0;36mregion\u001b[1;34m(self, lst)\u001b[0m\n\u001b[0;32m     84\u001b[0m                 \u001b[0mregion_dict\u001b[0m\u001b[1;33m[\u001b[0m\u001b[0mregion\u001b[0m\u001b[1;33m]\u001b[0m \u001b[1;33m+=\u001b[0m \u001b[1;36m1\u001b[0m\u001b[1;33m\u001b[0m\u001b[1;33m\u001b[0m\u001b[0m\n\u001b[0;32m     85\u001b[0m             \u001b[1;32melse\u001b[0m\u001b[1;33m:\u001b[0m\u001b[1;33m\u001b[0m\u001b[1;33m\u001b[0m\u001b[0m\n\u001b[1;32m---> 86\u001b[1;33m                 \u001b[0mregion_dict\u001b[0m\u001b[1;33m[\u001b[0m\u001b[0mregion\u001b[0m\u001b[1;33m]\u001b[0m \u001b[1;33m=\u001b[0m \u001b[1;36m1\u001b[0m\u001b[1;33m\u001b[0m\u001b[1;33m\u001b[0m\u001b[0m\n\u001b[0m\u001b[0;32m     87\u001b[0m         \u001b[1;32mreturn\u001b[0m \u001b[0mregion_dict\u001b[0m\u001b[1;33m\u001b[0m\u001b[1;33m\u001b[0m\u001b[0m\n",
      "\u001b[1;31mTypeError\u001b[0m: unsupported operand type(s) for +=: 'dict' and 'int'"
     ]
    }
   ],
   "source": [
    "region_obj.region(patients_region)"
   ]
  }
 ],
 "metadata": {
  "kernelspec": {
   "display_name": "Python 3.8.8 ('base')",
   "language": "python",
   "name": "python3"
  },
  "language_info": {
   "codemirror_mode": {
    "name": "ipython",
    "version": 3
   },
   "file_extension": ".py",
   "mimetype": "text/x-python",
   "name": "python",
   "nbconvert_exporter": "python",
   "pygments_lexer": "ipython3",
   "version": "3.8.8"
  },
  "orig_nbformat": 4,
  "vscode": {
   "interpreter": {
    "hash": "42c0269f0e085ed546a1adc5c176aa93e10703cf91ed6887afe73817bdb233f8"
   }
  }
 },
 "nbformat": 4,
 "nbformat_minor": 2
}
