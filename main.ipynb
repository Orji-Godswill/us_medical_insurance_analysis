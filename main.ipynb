{
 "cells": [
  {
   "cell_type": "markdown",
   "metadata": {},
   "source": [
    "# Project: US Medical Insurance Cost Analysis\n",
    "\n",
    "## Step 1: Look over the dataset\n",
    "### Step 1.1: Import the dataset and utils.py"
   ]
  },
  {
   "cell_type": "code",
   "execution_count": 1,
   "metadata": {},
   "outputs": [],
   "source": [
    "import csv\n",
    "import utils\n"
   ]
  },
  {
   "cell_type": "markdown",
   "metadata": {},
   "source": [
    "### Step 1.2: Create empty list for each variable column from the dataset\n",
    "Seven empty lists were created to store the data extracted from the insurance.csv file for each column. The variable names were chosen to reflect the type of data stored in each list."
   ]
  },
  {
   "cell_type": "code",
   "execution_count": 2,
   "metadata": {},
   "outputs": [],
   "source": [
    "patients_age = []\n",
    "patients_sex = []\n",
    "patients_bmi = []\n",
    "patients_children = []\n",
    "patients_smoker = []\n",
    "patients_region = []\n",
    "patients_charges = []"
   ]
  },
  {
   "cell_type": "markdown",
   "metadata": {},
   "source": [
    "### Step 1.3: Define a function that will extract the data in the insurance.csv file \n",
    "The function will be used to extract individual columns from the csv file and store the data in the list created in step 1.2 respectively"
   ]
  },
  {
   "cell_type": "code",
   "execution_count": 3,
   "metadata": {},
   "outputs": [],
   "source": [
    "def extract_data(column_list, csv_file, column_name):\n",
    "    with open(csv_file) as csv_data:\n",
    "        csv_dict = csv.DictReader(csv_data)\n",
    "        for row in csv_dict:\n",
    "            column_list.append(row[column_name])\n",
    "\n",
    "    return None"
   ]
  },
  {
   "cell_type": "code",
   "execution_count": 4,
   "metadata": {},
   "outputs": [],
   "source": [
    "extract_data(patients_age, 'insurance.csv', 'age')\n",
    "extract_data(patients_sex, 'insurance.csv', 'sex')\n",
    "extract_data(patients_bmi, 'insurance.csv', 'bmi')\n",
    "extract_data(patients_children, 'insurance.csv', 'children')\n",
    "extract_data(patients_smoker, 'insurance.csv', 'smoker')\n",
    "extract_data(patients_region, 'insurance.csv', 'region')\n",
    "extract_data(patients_charges, 'insurance.csv', 'charges')"
   ]
  },
  {
   "cell_type": "markdown",
   "metadata": {},
   "source": [
    "## Step 2: Analysis of the Dataset\n",
    "### Step 2.1: Create an instance of the summary statistics class created in the utils.py file"
   ]
  },
  {
   "cell_type": "code",
   "execution_count": 5,
   "metadata": {},
   "outputs": [],
   "source": [
    "summary_statistics_obj = utils.SummaryStatistics()"
   ]
  },
  {
   "cell_type": "markdown",
   "metadata": {},
   "source": [
    "### 2.2: Find out the average age of the patients in the dataset\n",
    "Summary statistics of age of the patients"
   ]
  },
  {
   "cell_type": "code",
   "execution_count": 6,
   "metadata": {},
   "outputs": [
    {
     "data": {
      "text/plain": [
       "'The average age of the patients is 39 years!'"
      ]
     },
     "execution_count": 6,
     "metadata": {},
     "output_type": "execute_result"
    }
   ],
   "source": [
    "summary_statistics_obj.mean(patients_age, 'age')"
   ]
  },
  {
   "cell_type": "code",
   "execution_count": 7,
   "metadata": {},
   "outputs": [
    {
     "data": {
      "text/plain": [
       "'The patient age is within the range of 46.0'"
      ]
     },
     "execution_count": 7,
     "metadata": {},
     "output_type": "execute_result"
    }
   ],
   "source": [
    "summary_statistics_obj.range(patients_age, 'age')"
   ]
  },
  {
   "cell_type": "markdown",
   "metadata": {},
   "source": [
    "Summary statistics of the bmi of the patients"
   ]
  },
  {
   "cell_type": "code",
   "execution_count": 8,
   "metadata": {},
   "outputs": [
    {
     "data": {
      "text/plain": [
       "'The average bmi of the patients is 30.66!'"
      ]
     },
     "execution_count": 8,
     "metadata": {},
     "output_type": "execute_result"
    }
   ],
   "source": [
    "summary_statistics_obj.mean(patients_bmi, 'bmi')"
   ]
  },
  {
   "cell_type": "code",
   "execution_count": 9,
   "metadata": {},
   "outputs": [
    {
     "data": {
      "text/plain": [
       "'The patient bmi value is within the range of 37.17'"
      ]
     },
     "execution_count": 9,
     "metadata": {},
     "output_type": "execute_result"
    }
   ],
   "source": [
    "summary_statistics_obj.range(patients_bmi, 'bmi')"
   ]
  },
  {
   "cell_type": "markdown",
   "metadata": {},
   "source": [
    "Analysis of the amount of money the patients spend on insurance"
   ]
  },
  {
   "cell_type": "code",
   "execution_count": 10,
   "metadata": {},
   "outputs": [
    {
     "data": {
      "text/plain": [
       "'The average charge of the patients is 13270.42!'"
      ]
     },
     "execution_count": 10,
     "metadata": {},
     "output_type": "execute_result"
    }
   ],
   "source": [
    "summary_statistics_obj.mean(patients_charges, 'charges')"
   ]
  },
  {
   "cell_type": "markdown",
   "metadata": {},
   "source": [
    "### Step 2.3: Analyse the data based on location"
   ]
  },
  {
   "cell_type": "code",
   "execution_count": 11,
   "metadata": {},
   "outputs": [],
   "source": [
    "region_obj = utils.PatientsByRegion()"
   ]
  },
  {
   "cell_type": "code",
   "execution_count": 12,
   "metadata": {},
   "outputs": [
    {
     "name": "stdout",
     "output_type": "stream",
     "text": [
      "The total number of patients from southwest is 325\n",
      "The total number of patients from southeast is 364\n",
      "The total number of patients from northwest is 325\n",
      "The total number of patients from northeast is 324\n"
     ]
    }
   ],
   "source": [
    "region_obj.analyse_region(patients_region)"
   ]
  },
  {
   "cell_type": "markdown",
   "metadata": {},
   "source": [
    "### Step 2.4: Look at the different costs between smokers and non-smokers"
   ]
  },
  {
   "cell_type": "code",
   "execution_count": 23,
   "metadata": {},
   "outputs": [
    {
     "name": "stdout",
     "output_type": "stream",
     "text": [
      "-------------Total number of patients who either smoke or not----------------\n",
      "The number of people who smoke are 274\n",
      "The number of people who do not smoke are 1064\n",
      "\n",
      "-------------Average expenses on health insurance base on smoking status----------------\n",
      "The average money spent on insurance by patient who smoke is 32050.23\n",
      "The average money spent on insurance by patient who do not smoke is 8434.27\n"
     ]
    }
   ],
   "source": [
    "smoke_patient_obj = utils.PatientThatSmoke()\n",
    "total_charges = smoke_patient_obj.charge(patients_smoker, patients_charges)\n",
    "num_smokers = region_obj.region(patients_smoker)\n",
    "\n",
    "total_smokers = num_smokers['yes']\n",
    "total_non_smokers = num_smokers['no']\n",
    "\n",
    "print('-------------Total number of patients who either smoke or not----------------')\n",
    "\n",
    "\n",
    "print('The number of people who smoke are {0}'.format(total_smokers))\n",
    "print('The number of people who do not smoke are {0}'.format(total_non_smokers))\n",
    "\n",
    "print()\n",
    "print('-------------Average expenses on health insurance base on smoking status-----------------------')\n",
    "\n",
    "av_charge_s = round((total_charges[0] / num_smokers['yes']), 2)\n",
    "av_charge_ns = round((total_charges[-1] / num_smokers['no']), 2)\n",
    "\n",
    "print(\"The average money spent on insurance by patient who smoke is {0}\".format(av_charge_s))\n",
    "print(\"The average money spent on insurance by patient who do not smoke is {0}\".format(av_charge_ns))\n",
    "\n"
   ]
  },
  {
   "cell_type": "code",
   "execution_count": null,
   "metadata": {},
   "outputs": [],
   "source": []
  }
 ],
 "metadata": {
  "kernelspec": {
   "display_name": "Python 3.8.8 ('base')",
   "language": "python",
   "name": "python3"
  },
  "language_info": {
   "codemirror_mode": {
    "name": "ipython",
    "version": 3
   },
   "file_extension": ".py",
   "mimetype": "text/x-python",
   "name": "python",
   "nbconvert_exporter": "python",
   "pygments_lexer": "ipython3",
   "version": "3.8.8"
  },
  "orig_nbformat": 4,
  "vscode": {
   "interpreter": {
    "hash": "42c0269f0e085ed546a1adc5c176aa93e10703cf91ed6887afe73817bdb233f8"
   }
  }
 },
 "nbformat": 4,
 "nbformat_minor": 2
}
